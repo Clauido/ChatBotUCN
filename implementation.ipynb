{
 "cells": [
  {
   "cell_type": "markdown",
   "metadata": {},
   "source": [
    "# Imports"
   ]
  },
  {
   "cell_type": "code",
   "execution_count": 1,
   "metadata": {},
   "outputs": [
    {
     "name": "stderr",
     "output_type": "stream",
     "text": [
      "c:\\Users\\claud\\Desktop\\Cursos\\LearningLangChain\\thisEnvironment\\Lib\\site-packages\\tqdm\\auto.py:21: TqdmWarning: IProgress not found. Please update jupyter and ipywidgets. See https://ipywidgets.readthedocs.io/en/stable/user_install.html\n",
      "  from .autonotebook import tqdm as notebook_tqdm\n"
     ]
    }
   ],
   "source": [
    "from langchain_ollama import OllamaLLM # Para levantar el modelo LLama3.1\n",
    "from langchain_community.document_loaders import PyPDFDirectoryLoader #Para Cargar los PDFs\n",
    "from langchain.text_splitter import RecursiveCharacterTextSplitter # Para hacer los CHUNKS\n",
    "from langchain_community.embeddings.fastembed import FastEmbedEmbeddings # Para hacer el embeddings de los CHUNKS\n",
    "from fastembed import TextEmbedding\n",
    "from langchain_chroma import Chroma# Para trabajar con la BD vectorial\n",
    "from langchain.prompts import PromptTemplate # Para hacer el template del prompt del modelo LLama\n",
    "from langchain.chains import RetrievalQA # Para hacer las preguntas al modelo y obtener las respuestas"
   ]
  },
  {
   "cell_type": "code",
   "execution_count": 2,
   "metadata": {},
   "outputs": [],
   "source": [
    "import os\n",
    "import re"
   ]
  },
  {
   "cell_type": "markdown",
   "metadata": {},
   "source": [
    "# Parámetros"
   ]
  },
  {
   "cell_type": "code",
   "execution_count": 3,
   "metadata": {},
   "outputs": [],
   "source": [
    "CHUNK_SIZE=2000\n",
    "CHUNK_OVERLAP=500"
   ]
  },
  {
   "cell_type": "markdown",
   "metadata": {},
   "source": [
    "# Consideraciones\n",
    "* Se tomó la decisión de que todos los documentos van en una sola colección"
   ]
  },
  {
   "cell_type": "markdown",
   "metadata": {},
   "source": [
    "# Modelo\n",
    "* El modelo es el llama3.1\n",
    "* Debe de estar installado el modelo y ollama.\n",
    "* [Descargar Ollama](https://ollama.com/)\n",
    "* Descargar el modelo en la terminal luego de descargar OLLAMA `ollama pull llama3.1` **Pesa 4GB**\n"
   ]
  },
  {
   "cell_type": "code",
   "execution_count": 4,
   "metadata": {},
   "outputs": [
    {
     "data": {
      "text/plain": [
       "'Hola! Soy un modelo de lenguaje artificial creado por Meta, y no tengo una identidad personal en el sentido tradicional. No tengo un nombre, edad, género ni ubicación específica. Mi función es ayudar a las personas a encontrar la información que necesitan, responder preguntas y facilitar la comunicación en varios idiomas.\\n\\nPuedes llamarme \"asistente de conversación\" o simplemente \"yo\". ¿En qué puedo ayudarte hoy?'"
      ]
     },
     "execution_count": 4,
     "metadata": {},
     "output_type": "execute_result"
    }
   ],
   "source": [
    "llm = OllamaLLM(model=\"llama3.1\")\n",
    "llm.invoke(\"Hola, quien eres?\")"
   ]
  },
  {
   "cell_type": "markdown",
   "metadata": {},
   "source": [
    "# Cargar los Documentos (RAG)"
   ]
  },
  {
   "cell_type": "code",
   "execution_count": 5,
   "metadata": {},
   "outputs": [],
   "source": [
    "direc = './PDF/'\n",
    "loader=PyPDFDirectoryLoader(direc)"
   ]
  },
  {
   "cell_type": "code",
   "execution_count": 6,
   "metadata": {},
   "outputs": [],
   "source": [
    "pdfs = loader.load() # Aquí están todos los PDF"
   ]
  },
  {
   "cell_type": "markdown",
   "metadata": {},
   "source": [
    "## ETL"
   ]
  },
  {
   "cell_type": "markdown",
   "metadata": {},
   "source": [
    "- Remplazo de `\\n , \\n*, \\n\\n*` por ` \" \" ` y las palabras que empiezan con `\\nlimpieza` solo quedarían como \"limpieza\" "
   ]
  },
  {
   "cell_type": "code",
   "execution_count": null,
   "metadata": {},
   "outputs": [],
   "source": [
    "for pdf in pdfs:\n",
    "    pdf.page_content = re.sub(r'\\n\\*?\\s*\\n\\*?', ' ', pdf.page_content)\n",
    "    pdf.page_content = re.sub(r'\\s+\\b', ' ', pdf.page_content) \n",
    "pdfs\n",
    "    "
   ]
  },
  {
   "cell_type": "markdown",
   "metadata": {},
   "source": [
    "# Splitter"
   ]
  },
  {
   "cell_type": "code",
   "execution_count": 8,
   "metadata": {},
   "outputs": [],
   "source": [
    "text_splitter = RecursiveCharacterTextSplitter(chunk_size=CHUNK_SIZE, chunk_overlap=CHUNK_OVERLAP)"
   ]
  },
  {
   "cell_type": "markdown",
   "metadata": {},
   "source": [
    "### Hacer los Chunks"
   ]
  },
  {
   "cell_type": "code",
   "execution_count": 9,
   "metadata": {},
   "outputs": [],
   "source": [
    "chunks=text_splitter.split_documents(pdfs)"
   ]
  },
  {
   "cell_type": "code",
   "execution_count": null,
   "metadata": {},
   "outputs": [],
   "source": [
    "chunks"
   ]
  },
  {
   "cell_type": "code",
   "execution_count": 11,
   "metadata": {},
   "outputs": [
    {
     "data": {
      "text/plain": [
       "Document(metadata={'source': 'PDF\\\\Reglamento-General-de-Docencia-de-Pregrado-2024-2.pdf', 'page': 0}, page_content='Universidad Católica del Norte REGLAMENTO GENERAL DE DOCENCIA DE PREGRADO JUNIO 2024')"
      ]
     },
     "execution_count": 11,
     "metadata": {},
     "output_type": "execute_result"
    }
   ],
   "source": [
    "chunks[0]"
   ]
  },
  {
   "cell_type": "code",
   "execution_count": 12,
   "metadata": {},
   "outputs": [
    {
     "data": {
      "text/plain": [
       "Document(metadata={'source': 'PDF\\\\Reglamento-General-de-Docencia-de-Pregrado-2024-2.pdf', 'page': 1}, page_content='ÍNDICE TÍTULO | Disposiciones generale TÍTULO II De la calidad de estudiante TÍTULO IIl Admisión y Matricula TÍTULO IV Estructura y Organización Curriculal ... 7 TÍTULO V Sistema de Créditos Transferibles (SCT) TÍTULO VI Inscripción y renuncia de actividades curriculare TÍTULO VIl Evaluaciones y calificaciones TÍTULO Vill Asignaturas por Tutoría y EXAMEN ..o 18 TÍTULO IX Interrupción de estudios s 19 TÍTULO X Eliminación y Renuncia TÍTULO XI Cambios de carrera o de programa y cambios de sede. TÍTULO XIl Traslado de Universidad TÍTULO XIl Movilidad estudiantil e 27 TÍTULO XV Egreso y Titulación ...t 30 Artículo transitorio ...O aA 31')"
      ]
     },
     "execution_count": 12,
     "metadata": {},
     "output_type": "execute_result"
    }
   ],
   "source": [
    "chunks[1]"
   ]
  },
  {
   "cell_type": "markdown",
   "metadata": {},
   "source": [
    "# Hacer el embedding"
   ]
  },
  {
   "cell_type": "markdown",
   "metadata": {},
   "source": [
    "## Obtener el modelo de embedding desde HuggingFace"
   ]
  },
  {
   "cell_type": "code",
   "execution_count": 13,
   "metadata": {},
   "outputs": [
    {
     "name": "stderr",
     "output_type": "stream",
     "text": [
      "Fetching 5 files: 100%|██████████| 5/5 [00:00<?, ?it/s]\n"
     ]
    }
   ],
   "source": [
    "embed_model = FastEmbedEmbeddings(model_name=\"sentence-transformers/all-MiniLM-L6-v2\")"
   ]
  },
  {
   "cell_type": "markdown",
   "metadata": {},
   "source": [
    "# Chroma\n"
   ]
  },
  {
   "cell_type": "markdown",
   "metadata": {},
   "source": [
    "### Creación de la base de datos"
   ]
  },
  {
   "cell_type": "markdown",
   "metadata": {},
   "source": [
    "- En esta etapa se crear el embbeding de los chunks gracias al modelo, se crear un directorio donde se almacenarán los embbeding y se crea la colección"
   ]
  },
  {
   "cell_type": "code",
   "execution_count": 14,
   "metadata": {},
   "outputs": [],
   "source": [
    "vs = Chroma.from_documents(\n",
    "    documents=chunks,\n",
    "    embedding=embed_model,\n",
    "    persist_directory=\"chroma_db_dir\",  # Local mode with in-memory storage only\n",
    "    collection_name=\"reglamentos_UCN\"\n",
    ")"
   ]
  },
  {
   "cell_type": "markdown",
   "metadata": {},
   "source": [
    "- Se crea la instancia de la bd, enlazando todo, el modelo de embedding, el directorio donde está la bd y cual colección se deben conectar."
   ]
  },
  {
   "cell_type": "code",
   "execution_count": 15,
   "metadata": {},
   "outputs": [],
   "source": [
    "vectorstore = Chroma(embedding_function=embed_model,\n",
    "                     persist_directory=\"./chroma_db_dir/\",\n",
    "                     collection_name=\"reglamentos_UCN\")"
   ]
  },
  {
   "cell_type": "markdown",
   "metadata": {},
   "source": [
    "- Se crea un objeto de tipo retriever a partir de la instancia de Chroma: Los retrievers son componentes que permiten buscar y recuperar información específica de la base de datos de embeddings. Proporcionan una interfaz para interactuar con los datos almacenados."
   ]
  },
  {
   "cell_type": "code",
   "execution_count": 61,
   "metadata": {},
   "outputs": [],
   "source": [
    "retriever=vectorstore.as_retriever(search_type=\"similarity\",search_kwargs={'k': 3}) \n",
    "#Hay arte en elgir el tipo de search_type y la cantidad de k"
   ]
  },
  {
   "cell_type": "markdown",
   "metadata": {},
   "source": [
    "### Hacer el Template Del Promt"
   ]
  },
  {
   "cell_type": "code",
   "execution_count": 62,
   "metadata": {},
   "outputs": [],
   "source": [
    "custom_prompt_template = \"\"\" \n",
    "Usa la siguiente información para responder las preguntas del usuario, \n",
    "- Eres un chatbot en la Universidad Católica Del Norte - Campus Guayacan, en la ciudad de Coquimbo.\n",
    "- Debes responder con fundamento, normalmente los usuarios esperaran respuestas en base a los artículos que tienen el texto y trata de entrar en detalle sobre el mismo.\n",
    "- Acompaña tu respuesta cuando sea necesario con información que pueda necesitar el alumno, siempre en base al documento.\n",
    "- Si no sabes la respuesta, simplemente di que no lo sabes, no intentes inventar una respuesta.\n",
    "- Trata de no responder con \"Se puede inferir\", solo responde con respusetas específicas con respecto al texto\n",
    "\n",
    "Contexto: {context}\n",
    "Pregunta: {question}\n",
    "\n",
    "responde siempre en español a no ser que te pidan lo contrario\n",
    "Respuesta útil:\n",
    "\n",
    "\"\"\"\n",
    "prompt = PromptTemplate(template=custom_prompt_template,\n",
    "                        input_variables=['context', 'question'])"
   ]
  },
  {
   "cell_type": "markdown",
   "metadata": {},
   "source": [
    "-  Este método crea una instancia de un sistema de preguntas y respuestas que integra recuperación de información y un modelo de lenguaje."
   ]
  },
  {
   "cell_type": "code",
   "execution_count": 63,
   "metadata": {},
   "outputs": [],
   "source": [
    "qa = RetrievalQA.from_chain_type(llm=llm,\n",
    "                                 chain_type=\"stuff\",\n",
    "                                 retriever=retriever,\n",
    "                                 return_source_documents=True,\n",
    "                                 chain_type_kwargs={\"prompt\": prompt,\"verbose\":True})"
   ]
  },
  {
   "cell_type": "markdown",
   "metadata": {},
   "source": [
    "## Prompts De prueba"
   ]
  },
  {
   "cell_type": "code",
   "execution_count": 64,
   "metadata": {},
   "outputs": [],
   "source": [
    "def full_response(response):\n",
    "    best_chunk=response['source_documents'][0]\n",
    "\n",
    "    file_name = best_chunk.metadata['source'].split('\\\\')[-1].split('/')[-1]\n",
    "\n",
    "    page_number = int(best_chunk.metadata['page']) + 1\n",
    "\n",
    "    full_response =response['result'] + f'\\nLos detalles de esta respuesta fueron recuperados del documento \"{file_name}\", en la página número {page_number}.'\n",
    "    print(full_response)"
   ]
  },
  {
   "cell_type": "markdown",
   "metadata": {},
   "source": [
    "### Reglamento-General-de-Docencia-de-Pregrado-2024-2"
   ]
  },
  {
   "cell_type": "code",
   "execution_count": 65,
   "metadata": {},
   "outputs": [
    {
     "name": "stdout",
     "output_type": "stream",
     "text": [
      "\n",
      "\n",
      "\u001b[1m> Entering new StuffDocumentsChain chain...\u001b[0m\n",
      "\n",
      "\n",
      "\u001b[1m> Entering new LLMChain chain...\u001b[0m\n",
      "Prompt after formatting:\n",
      "\u001b[32;1m\u001b[1;3m \n",
      "Usa la siguiente información para responder las preguntas del usuario, \n",
      "- Eres un chatbot en la Universidad Católica Del Norte - Campus Guayacan, en la ciudad de Coquimbo.\n",
      "- Debes responder con fundamento, normalmente los usuarios esperaran respuestas en base a los artículos que tienen el texto y trata de entrar en detalle sobre el mismo.\n",
      "- Acompaña tu respuesta cuando sea necesario con información que pueda necesitar el alumno, siempre en base al documento.\n",
      "- Si no sabes la respuesta, simplemente di que no lo sabes, no intentes inventar una respuesta.\n",
      "- Trata de no responder con \"Se puede inferir\", solo responde con respusetas específicas con respecto al texto\n",
      "\n",
      "Contexto: Art. 6 Estudiante regular: Es quien ingresa a través de los procedimientos de admisión, que establece el Título II| del presente Reglamento, y adscrito a un programa o carrera determinada, cursa estudios conducentes a un grado académico y/o título profesional. La calidad de estudiante regular de la Universidad Católica del Norte se adquiere una vez que la matrícula ha sido formalizada en conformidad a las normas correspondientes. Art. 7. Estudiante egresado/a: Corresponde a estudiante regular que ha aprobado las actividades curriculares establecidas en el libro de carrera o programa respectivo y a quienes solo reste cumplir con las actividades finales exigidas para obtener el grado o titulo respectivo. Art. 8. Estudiante de intercambio saliente: Estudiante de la UCN, quien conservando la calidad de estudiante regular, realiza cualquier tipo de actividad académica en otra universidad nacional o extranjera. Se distinguen 2 tipos de intercambio saliente: e Intercambio Parcial: Cuando en el semestre de intercambio la carga esta distribuida en ambas universidades (origen y destino). e Intercambio Total: Cuando la carga completa del semestre está asociada a la universidad de destino. Esta calidad de estudiante incluye los que se encuentran en programas de doble titulación en una universidad extranjera. Estudiante de intercambio entrante: Estudiante proveniente de otra universidad nacional o extranjera quien, conservando la calidad de estudiante regular de su universidad de origen, realiza cualquier tipo de actividad académica en la Universidad Católica del Norte. Esta calidad de estudiante incluye a quienes se encuentran en programas de doble titulación procedentes de universidades extranjeras.\n",
      "\n",
      "Art. 9. Estudiante especial: Estudiante que se inscribe, con la — autorización correspondiente de la unidad académica respectiva, en determinadas actividades académicas para adquirir o desarrollar competencias. Quien es estudiante especial no puede optar a un Grado Académico y/o Título Profesional de la Universidad Católica del Norte. El Reglamento de Docencia para estudiantes especiales de la Universidad Católica del Norte, define la situación académica y administrativa de quienes están en dicha categoría. TÍTULO 1Il Admisión y Matrícula Art. 10. El ingreso como estudiante regular se realiza a través de alguno de los siguientes procesos: a) Proceso Nacional de Admisión a las Universidades Chilenas. b) Ingresos especiales, los cuales se rigen por el Reglamento de ingresos especiales. C) Por traslado de Universidad, regido por el Título XII del presente Reglamento. Art. 11. El estudiantado deberá atenerse al proceso anual de matrícula dentro de los plazos establecidos en el Calendario de actividades docentes. Para conservar la calidad de estudiante regular, cada estudiante deberá dar cumplimiento a los pagos de matrícula que correspondan. Todo lo anterior, de acuerdo a lo establecido en el Reglamento de matrícula vigente y definido para estos efectos.\n",
      "\n",
      "El estudiante eliminado/a que sea reintegrado/a, deberá ser adscrito al último catálogo de la carrera o programa, debiendo cumplir con las exigencias de este último. Art 48 Las solicitudes de reintegro serán resueltas por las siguientes instancias: e Estudiantes que por primera vez queden eliminados/as por la letra a) del art. 46, resuelve consejo de carrera. Estudiantes que por segunda oportunidad incurran en esta causal, resuelve comisión de casos especiales. e Estudiantes que queden eliminados por las letras b) y/o c) del art. 46, resuelve Comisión de casos especiales. e Estudiantes que por primera vez queden eliminados/as por la letra d) del art. 46, serán reintegrados automáticamente por el departamento de gestión académica y curricular en Antofagasta y el departamento de registro curricular en Coquimbo. Estudiantes que por segunda oportunidad incurran en esta causal, resuelve el Consejo de carrera. Estudiantes que por tercera vez incurran en las causales de eliminación de las letras a) o d), o que por segunda vez incurran en la causal de eliminación de la letra b) o c) del presente artículo, no tendrán derecho a apelación y solo podrán reingresar vía proceso de admisión a las universidades Chilenas. Las decisiones emitidas por los organismos colegiados no serán apelables. Art. 49. Un/a estudiante eliminado/a podrá solicitar su reintegro, hasta en cuatro (4) oportunidades a lo largo de su carrera o programa. El o la estudiante eliminado/a en quinta oportunidad sólo podrá reingresar a la Universidad a través del proceso de Admisión Nacional a las Universidades Chilenas. Art. 50. La Comisión de Casos Especiales, estará conformada en Antofagasta por: a) Director/a General de Pregrado, quien la preside y la convoca. b) Director/a General Estudiantil. C) Secretarios/as docentes o académicos de las facultades o de las escuelas dependientes de la Vicerrectoría académica.\n",
      "Pregunta: ¿Que es un estudiante regular?\n",
      "\n",
      "responde siempre en español a no ser que te pidan lo contrario\n",
      "Respuesta útil:\n",
      "\n",
      "\u001b[0m\n",
      "\n",
      "\u001b[1m> Finished chain.\u001b[0m\n",
      "\n",
      "\u001b[1m> Finished chain.\u001b[0m\n",
      "Un estudiante regular es quien ingresa a través de los procedimientos de admisión, establecidos en el Título II del presente Reglamento, y se adscribe a un programa o carrera determinada. También corresponde a quien cursa estudios conducentes a un grado académico y/o título profesional. Según el Artículo 6 del Reglamento de la Universidad Católica del Norte, la calidad de estudiante regular se adquiere una vez que la matrícula ha sido formalizada en conformidad con las normas correspondientes.\n",
      "\n",
      "Es importante destacar que para mantener esta condición, cada estudiante debe cumplir con los pagos de matrícula y atenerse al proceso anual de matrícula dentro de los plazos establecidos.\n",
      "Los detalles de esta respuesta fueron encontrados en el documento \"Reglamento-General-de-Docencia-de-Pregrado-2024-2.pdf\", en la página número 5.\n"
     ]
    }
   ],
   "source": [
    "response = qa.invoke({\"query\": \"¿Que es un estudiante regular?\"})\n",
    "full_response(response)\n"
   ]
  },
  {
   "cell_type": "code",
   "execution_count": 66,
   "metadata": {},
   "outputs": [
    {
     "name": "stdout",
     "output_type": "stream",
     "text": [
      "\n",
      "\n",
      "\u001b[1m> Entering new StuffDocumentsChain chain...\u001b[0m\n",
      "\n",
      "\n",
      "\u001b[1m> Entering new LLMChain chain...\u001b[0m\n",
      "Prompt after formatting:\n",
      "\u001b[32;1m\u001b[1;3m \n",
      "Usa la siguiente información para responder las preguntas del usuario, \n",
      "- Eres un chatbot en la Universidad Católica Del Norte - Campus Guayacan, en la ciudad de Coquimbo.\n",
      "- Debes responder con fundamento, normalmente los usuarios esperaran respuestas en base a los artículos que tienen el texto y trata de entrar en detalle sobre el mismo.\n",
      "- Acompaña tu respuesta cuando sea necesario con información que pueda necesitar el alumno, siempre en base al documento.\n",
      "- Si no sabes la respuesta, simplemente di que no lo sabes, no intentes inventar una respuesta.\n",
      "- Trata de no responder con \"Se puede inferir\", solo responde con respusetas específicas con respecto al texto\n",
      "\n",
      "Contexto: Art. 9. Estudiante especial: Estudiante que se inscribe, con la — autorización correspondiente de la unidad académica respectiva, en determinadas actividades académicas para adquirir o desarrollar competencias. Quien es estudiante especial no puede optar a un Grado Académico y/o Título Profesional de la Universidad Católica del Norte. El Reglamento de Docencia para estudiantes especiales de la Universidad Católica del Norte, define la situación académica y administrativa de quienes están en dicha categoría. TÍTULO 1Il Admisión y Matrícula Art. 10. El ingreso como estudiante regular se realiza a través de alguno de los siguientes procesos: a) Proceso Nacional de Admisión a las Universidades Chilenas. b) Ingresos especiales, los cuales se rigen por el Reglamento de ingresos especiales. C) Por traslado de Universidad, regido por el Título XII del presente Reglamento. Art. 11. El estudiantado deberá atenerse al proceso anual de matrícula dentro de los plazos establecidos en el Calendario de actividades docentes. Para conservar la calidad de estudiante regular, cada estudiante deberá dar cumplimiento a los pagos de matrícula que correspondan. Todo lo anterior, de acuerdo a lo establecido en el Reglamento de matrícula vigente y definido para estos efectos.\n",
      "\n",
      "El estudiante eliminado/a que sea reintegrado/a, deberá ser adscrito al último catálogo de la carrera o programa, debiendo cumplir con las exigencias de este último. Art 48 Las solicitudes de reintegro serán resueltas por las siguientes instancias: e Estudiantes que por primera vez queden eliminados/as por la letra a) del art. 46, resuelve consejo de carrera. Estudiantes que por segunda oportunidad incurran en esta causal, resuelve comisión de casos especiales. e Estudiantes que queden eliminados por las letras b) y/o c) del art. 46, resuelve Comisión de casos especiales. e Estudiantes que por primera vez queden eliminados/as por la letra d) del art. 46, serán reintegrados automáticamente por el departamento de gestión académica y curricular en Antofagasta y el departamento de registro curricular en Coquimbo. Estudiantes que por segunda oportunidad incurran en esta causal, resuelve el Consejo de carrera. Estudiantes que por tercera vez incurran en las causales de eliminación de las letras a) o d), o que por segunda vez incurran en la causal de eliminación de la letra b) o c) del presente artículo, no tendrán derecho a apelación y solo podrán reingresar vía proceso de admisión a las universidades Chilenas. Las decisiones emitidas por los organismos colegiados no serán apelables. Art. 49. Un/a estudiante eliminado/a podrá solicitar su reintegro, hasta en cuatro (4) oportunidades a lo largo de su carrera o programa. El o la estudiante eliminado/a en quinta oportunidad sólo podrá reingresar a la Universidad a través del proceso de Admisión Nacional a las Universidades Chilenas. Art. 50. La Comisión de Casos Especiales, estará conformada en Antofagasta por: a) Director/a General de Pregrado, quien la preside y la convoca. b) Director/a General Estudiantil. C) Secretarios/as docentes o académicos de las facultades o de las escuelas dependientes de la Vicerrectoría académica.\n",
      "\n",
      "d) Jefatura de carrera o programa al cual pertenece cada estudiante solicitante, quien integrará la comisión cuando se traten los casos de estudiantes de su carrera o programa. Estos solo tendrán derecho a voz. En Coquimbo estará compuesta por: a) Secretario/a de Pregrado y Estudiantil de Sede, quien la preside y convoca. b) Secretarios/as docentes o académicos de las facultades o de las escuelas dependientes de la vicerrectoría de sede. C) Jefatura de departamento estudiantil. d) Jefatura de carrera o programa, al cual pertenece cada estudiante solicitante, quien integrará la comisión cuando se traten casos de estudiantes de su carrera o Programa. Éstos solo tendrán derecho a voz. La Comisión podrá sesionar con un mínimo de dos tercios de sus integrantes y sus acuerdos los deberá adoptar por mayoría de sus miembros asistentes. Deberá reunirse dentro del plazo de 15 días hábiles contados desde la fecha de término de la entrega de las solicitudes, según las fechas establecidas en el calendario de actividades docentes. En las sesiones de la comisión, los antecedentes que consideren al conocer una solicitud, como asimismo la opinión individual de sus miembros, tendrán el carácter de reservados, pudiendo conocer de ellos solo el Rector/a y Vicerrectorías Académica y de Sede, según corresponda. Los acuerdos tendrán el carácter de reservados e inapelables y aquellos que acojan una solicitud deberán ser fundamentados en hechos de especial importancia. Art 51. Quienes egresen y superen el plazo de dos años para titularse o graduarse, sin haber finalizado su actividad de titulación o graduación, quedarán eliminados/as y se considerarán como egresados/as eliminados/as. Quien egrese y haya sido eliminado en virtud de lo dispuesto en el inciso precedente, podrá solicitar su reintegro a la carrera o programa, por única vez, dentro del plazo máximo de dos semestres desde su eliminación. Tal solicitud deberá presentarse según corresponda, ante el departamento de gestión académica\n",
      "Pregunta: ¿Que es un estudiante egresado/a?\n",
      "\n",
      "responde siempre en español a no ser que te pidan lo contrario\n",
      "Respuesta útil:\n",
      "\n",
      "\u001b[0m\n",
      "\n",
      "\u001b[1m> Finished chain.\u001b[0m\n",
      "\n",
      "\u001b[1m> Finished chain.\u001b[0m\n",
      "Según el artículo 51 del Reglamento de la Universidad Católica del Norte, un estudiante egrsatdo/a se refiere a aquel que ha egresado y superado el plazo de dos años para titularse o graduarse, sin haber finalizado su actividad de titulación o graduación.\n",
      "Los detalles de esta respuesta fueron encontrados en el documento \"Reglamento-General-de-Docencia-de-Pregrado-2024-2.pdf\", en la página número 6.\n"
     ]
    }
   ],
   "source": [
    "response = qa.invoke({\"query\": \"¿Que es un estudiante egresado/a?\"})\n",
    "full_response(response)"
   ]
  },
  {
   "cell_type": "code",
   "execution_count": 67,
   "metadata": {},
   "outputs": [
    {
     "name": "stdout",
     "output_type": "stream",
     "text": [
      "\n",
      "\n",
      "\u001b[1m> Entering new StuffDocumentsChain chain...\u001b[0m\n",
      "\n",
      "\n",
      "\u001b[1m> Entering new LLMChain chain...\u001b[0m\n",
      "Prompt after formatting:\n",
      "\u001b[32;1m\u001b[1;3m \n",
      "Usa la siguiente información para responder las preguntas del usuario, \n",
      "- Eres un chatbot en la Universidad Católica Del Norte - Campus Guayacan, en la ciudad de Coquimbo.\n",
      "- Debes responder con fundamento, normalmente los usuarios esperaran respuestas en base a los artículos que tienen el texto y trata de entrar en detalle sobre el mismo.\n",
      "- Acompaña tu respuesta cuando sea necesario con información que pueda necesitar el alumno, siempre en base al documento.\n",
      "- Si no sabes la respuesta, simplemente di que no lo sabes, no intentes inventar una respuesta.\n",
      "- Trata de no responder con \"Se puede inferir\", solo responde con respusetas específicas con respecto al texto\n",
      "\n",
      "Contexto: competencias y exigencias, así como el año en que éstas hubiesen sido aprobadas. Estudiantes que realicen actividades extracurriculares que se encuentren alineadas con el PEl, podrán solicitar la convalidación de éstas por una asignatura de Formación General Electiva de su carrera a través del sistema de trámites curriculares. La Dirección General de Pregrado en Antofagasta y la secretaria de pregrado y estudiantil en Coquimbo según corresponda, evaluarán y resolverán la solicitud. Art. 64. Para efectos de los cambios de carreras y reingresos a la misma carrera vía Proceso Nacional de Admisión a las Universidades Chilenas, las convalidaciones serán automáticas, siempre y cuando presenten el mismo código de asignatura y el estudiante tenga aprobada la asignatura en el libro de calificaciones por componente (Banner). En este caso se registrará el periodo en que la asignatura fue cursada y se considerará como cursada por primera oportunidad. En la eventualidad que el código de la asignatura haya cambiado, deberá solicitar la convalidación vía sistema de trámites curriculares en el mismo semestre del cambio de carrera o reingreso a la misma carrera, en las fechas estipuladas en el calendario de actividades docentes, tal como se estipula en el artículo 62. Las asignaturas tendrán una vigencia de 10 años para su convalidación, pasado ese plazo deberán volver a ser cursadas. Art. 65. Las solicitudes de convalidaciones por traslado de universidad, deberán ser presentadas por el o la estudiante que fue aceptado/a en una carrera de la UCN, mediante sistema de tramites curriculares en las fechas estipuladas en el calendario de actividades docentes. Deberá adjuntar: e Certificado de notas, autentificado por la autoridad competente de la universidad de origen, que contenga las asignaturas aprobadas, sus calificaciones y la escala de notas. e Programas oficializados de los cursos aprobados, en el que se haga mención del número de horas presenciales y/o créditos SCT de cada\n",
      "\n",
      "TÍTULO VI Inscripción y renuncia de actividades curriculares Art. 19. Las actividades curriculares son aquellas que cada estudiante realiza dentro de un plan de estudios, bajo la supervisión directa de uno o más académicos, designados por la unidad académica responsable. Estas pueden ser: asignaturas, prácticas, seminarios, proyectos de título o grado, memorias y toda otra forma concordante con el plan de estudios. Estas actividades serán impartidas por las unidades académicas responsables. Su programación se regirá por el calendario de actividades docentes de la Universidad. Art. 20 Cada estudiante pertenecerá al nivel en que se ubica la actividad curricular más atrasada que no tenga aprobada. Art. 21. Cada plan de estudios deberá especificar de manera clara los prerrequisitos asociados a cada asignatura. Un Prerrequisito se entiende como una actividad dentro de la estructura curricular, cuya aprobación o cumplimiento es considerada necesaria para cursar una actividad posterior. Son prerrequisitos: e Por asignatura: Cada estudiante puede inscribir asignaturas, siempre y cuando tenga aprobada(s) la(s) asignatura(s) requisito(s) de acuerdo al Plan de Estudios vigente. e Por dispersión: Cada estudiante puede inscribir asignaturas de hasta dos niveles superiores a su nivel actual. e Por créditos: Cada estudiante puede inscribir asignaturas, siempre y cuando cumpla con los créditos definidos en el Plan de Estudios vigente. e Por nivel: Cada estudiante puede inscribir asignaturas, siempre y cuando cumpla con el nivel mínimo establecido en el Plan de Estudios vigente. El estudiantado podrá solicitar la omisión de algún prerrequisito a la Jefatura de Carrera o Programa, quien deberá evaluar la situación curricular de cada /&% -‘\\ estudiante para su aprobación.\n",
      "\n",
      "Art. 41. Estudiantes regulares podrán acogerse al beneficio de anular todas las actividades curriculares inscritas durante el periodo académico que se encuentra cursando hasta en dos oportunidades a lo largo de sus estudios. En consecuencia, se anularán todas las actividades curriculares inscritas en el caso que las hubiere y las calificaciones asociadas a éstas. El plazo de presentación de solicitudes de anulación está determinado en el calendario de actividades docentes y debe realizarse en el departamento de gestión académica y curricular en Antofagasta y en el departamento de registro curricular en Coquimbo según corresponda, a través del sistema de trámites curriculares. Debe indicar el motivo de la anulación. En este tipo de interrupción de estudios, cada estudiante mantiene su condición de alumno/a regular. Sin embargo, no está autorizado a realizar en este periodo prácticas profesionales o cualquier otra actividad curricular. Art. 42. Se entenderá por retiro temporal la interrupción de los estudios por periodos académicos completos. Cada estudiante podrá acogerse a retiro temporal antes del inicio de las actividades académicas de cada semestre. Esta solicitud podrá realizarla por uno, dos o tres semestres a lo largo de su carrera, ya sea de manera parcializada o consecutiva a través del sistema de trámites curriculares de la institución. Para acogerse al derecho de retiro temporal, el estudiantado no debe tener situaciones de deuda pendiente de ninguna índole con la Universidad, haber cursado más de un año de estudios en la Universidad y no estar afecto a eliminación. Durante la vigencia del retiro temporal, el estudiante quedará exento del pago de matrícula. Al término del retiro temporal, cualquiera fuere el tiempo autorizado, cada estudiante deberá reintegrarse a la Universidad, adscribiéndose al plan de estudios vigente de la carrera o programa que cursa. De lo contrario quedará afecto a eliminación.\n",
      "Pregunta: ¿Que es una actividad curricular?\n",
      "\n",
      "responde siempre en español a no ser que te pidan lo contrario\n",
      "Respuesta útil:\n",
      "\n",
      "\u001b[0m\n",
      "\n",
      "\u001b[1m> Finished chain.\u001b[0m\n",
      "\n",
      "\u001b[1m> Finished chain.\u001b[0m\n",
      "Según el artículo 19 del Título VI de la normativa universitaria, \"Las actividades curriculares son aquellas que cada estudiante realiza dentro de un plan de estudios, bajo la supervisión directa de uno o más académicos, designados por la unidad académica responsable\".\n",
      "\n",
      "Estas pueden ser: asignaturas, prácticas, seminarios, proyectos de título o grado, memorias y toda otra forma concordante con el plan de estudios.\n",
      "Los detalles de esta respuesta fueron encontrados en el documento \"Reglamento-General-de-Docencia-de-Pregrado-2024-2.pdf\", en la página número 29.\n"
     ]
    }
   ],
   "source": [
    "response = qa.invoke({\"query\": \"¿Que es una actividad curricular?\"})\n",
    "full_response(response)"
   ]
  },
  {
   "cell_type": "code",
   "execution_count": 68,
   "metadata": {},
   "outputs": [
    {
     "name": "stdout",
     "output_type": "stream",
     "text": [
      "\n",
      "\n",
      "\u001b[1m> Entering new StuffDocumentsChain chain...\u001b[0m\n",
      "\n",
      "\n",
      "\u001b[1m> Entering new LLMChain chain...\u001b[0m\n",
      "Prompt after formatting:\n",
      "\u001b[32;1m\u001b[1;3m \n",
      "Usa la siguiente información para responder las preguntas del usuario, \n",
      "- Eres un chatbot en la Universidad Católica Del Norte - Campus Guayacan, en la ciudad de Coquimbo.\n",
      "- Debes responder con fundamento, normalmente los usuarios esperaran respuestas en base a los artículos que tienen el texto y trata de entrar en detalle sobre el mismo.\n",
      "- Acompaña tu respuesta cuando sea necesario con información que pueda necesitar el alumno, siempre en base al documento.\n",
      "- Si no sabes la respuesta, simplemente di que no lo sabes, no intentes inventar una respuesta.\n",
      "- Trata de no responder con \"Se puede inferir\", solo responde con respusetas específicas con respecto al texto\n",
      "\n",
      "Contexto: La resolución de esta solicitud esta sujeta a la ponderación de diversos criterios tales como puntaje de admisión, número de cupos disponibles, test vocacional y notas obtenidas en la carrera de origen, sin perjuicio de otros criterios específicos que establezca la carrera. Art. 55. Se entenderá por cambio de sede el acto por medio del cual un/una estudiante deja de pertenecer a la sede de origen de su carrera o programa, quedando adscrito a la misma carrera o programa en una sede distinta de la Universidad. Se aceptará sólo un (1) cambio de sede durante sus estudios en la universidad. Los egresados quienes aún no han concluido su actividad de titulación o graduación, no podrán realizar cambio de sede para finalizar su proceso. La resolución de esta solicitud está sujeta a la ponderación de diversos criterios tales como puntaje de admisión, número de cupos disponibles, notas obtenidas en la carrera de origen, sin perjuicio de otros criterios específicos que establezca la sede. Los requisitos para solicitar Cambio sede son: a) No estar afecto/a a una causal de pérdida de la calidad de estudiante, según lo establecido en el artículo 46 del presente Reglamento. b) Cumplir con los requisitos específicos establecidos por la Unidad Académica respectiva, definidos en la normativa interna correspondiente. C) Haber cursado al menos un año en la sede de origen. TÍTULO XIl Traslado de Universidad Art. 56. Se entenderá por traslado de universidad al acto en virtud del cual un/a estudiante se cambia de otra universidad acreditada a la Universidad Católica del Norte, con el objeto de proseguir la misma u otra carrera o programa.\n",
      "\n",
      "Art. 9. Estudiante especial: Estudiante que se inscribe, con la — autorización correspondiente de la unidad académica respectiva, en determinadas actividades académicas para adquirir o desarrollar competencias. Quien es estudiante especial no puede optar a un Grado Académico y/o Título Profesional de la Universidad Católica del Norte. El Reglamento de Docencia para estudiantes especiales de la Universidad Católica del Norte, define la situación académica y administrativa de quienes están en dicha categoría. TÍTULO 1Il Admisión y Matrícula Art. 10. El ingreso como estudiante regular se realiza a través de alguno de los siguientes procesos: a) Proceso Nacional de Admisión a las Universidades Chilenas. b) Ingresos especiales, los cuales se rigen por el Reglamento de ingresos especiales. C) Por traslado de Universidad, regido por el Título XII del presente Reglamento. Art. 11. El estudiantado deberá atenerse al proceso anual de matrícula dentro de los plazos establecidos en el Calendario de actividades docentes. Para conservar la calidad de estudiante regular, cada estudiante deberá dar cumplimiento a los pagos de matrícula que correspondan. Todo lo anterior, de acuerdo a lo establecido en el Reglamento de matrícula vigente y definido para estos efectos.\n",
      "\n",
      "TÍTULO IV Estructura y Organización curricular Art. 12. Para efectos del presente reglamento, se definen los siguientes términos: a) Perfil de Egreso: declaración de habilidades y competencias terminales para una carrera o programa. b) Plan de estudio: es una explicitación estructurada que define los tiempos y las asignaturas correspondientes a las áreas que forman parte del proceso formativo conducente al logro de perfil de egreso: Ciclo básico, ciclo profesional, Plan de Formación General y Actividad de Titulación o graduación. C) Arquitectura curricular: organización de las actividades curriculares que dan cuenta de la trayectoria formativa, la que contempla: e Definición de Ciclo Básico y Ciclo Profesional. e Malla Curricular: Contempla las asignaturas o mádulos, prerrequisitos y la distribución de la carga académica. e Diagrama curricular: Representación gráfica de la malla curricular de una carrera, en sus relaciones de prerrequisitos y concurrencia de las asignaturas que lo componen: Nombre de las asignaturas o modulos, Carga académica expresada a través del sistema de créditos transferibles SCT), actividades de graduación y/o titulación. d) Nivel: Conjunto de asignaturas contenidas en un determinado semestre en el plan de estudios. e) Periodo Académico: Tiempo comprendido entre el inicio y fin del semestre fijado en el calendario de actividades docentes. \n",
      ") Ciclo: Cada una de las dos etapas secuenciales en el Plan de Estudios \n",
      "(Básico y Profesional). Art. 13. El ciclo básico contiene un conjunto de cursos y actividades académicas que conforman una secuencia curricular cuyo objetivo es dotar al estudiantado de una formación inicial que proporcionen los fundamentos para las actividades académicas del ciclo Profesional.\n",
      "Pregunta: ¿Cuales son los tipos de estudiantes de intercambios hay?\n",
      "\n",
      "responde siempre en español a no ser que te pidan lo contrario\n",
      "Respuesta útil:\n",
      "\n",
      "\u001b[0m\n",
      "\n",
      "\u001b[1m> Finished chain.\u001b[0m\n",
      "\n",
      "\u001b[1m> Finished chain.\u001b[0m\n"
     ]
    },
    {
     "data": {
      "text/plain": [
       "{'query': '¿Cuales son los tipos de estudiantes de intercambios hay?',\n",
       " 'result': 'Según el texto, no hay una sección específica dedicada a \"estudiantes de intercambio\" o \"tipos de estudiantes de intercambio\". Sin embargo, hay un artículo (Art. 56) que habla sobre \"traslado de universidad\", que puede ser relevante para tu pregunta.\\n\\nSegún Art. 56, se entenderá por traslado de universidad al acto en virtud del cual un/a estudiante se cambia de otra universidad acreditada a la Universidad Católica del Norte, con el objeto de proseguir la misma u otra carrera o programa. Esto sugiere que hay estudiantes que pueden estar haciendo intercambios entre universidades.\\n\\nNo obstante, no hay una clasificación específica de \"tipos de estudiantes de intercambio\" en el texto proporcionado.',\n",
       " 'source_documents': [Document(metadata={'page': 25, 'source': 'PDF\\\\Reglamento-General-de-Docencia-de-Pregrado-2024-2.pdf'}, page_content='La resolución de esta solicitud esta sujeta a la ponderación de diversos criterios tales como puntaje de admisión, número de cupos disponibles, test vocacional y notas obtenidas en la carrera de origen, sin perjuicio de otros criterios específicos que establezca la carrera. Art. 55. Se entenderá por cambio de sede el acto por medio del cual un/una estudiante deja de pertenecer a la sede de origen de su carrera o programa, quedando adscrito a la misma carrera o programa en una sede distinta de la Universidad. Se aceptará sólo un (1) cambio de sede durante sus estudios en la universidad. Los egresados quienes aún no han concluido su actividad de titulación o graduación, no podrán realizar cambio de sede para finalizar su proceso. La resolución de esta solicitud está sujeta a la ponderación de diversos criterios tales como puntaje de admisión, número de cupos disponibles, notas obtenidas en la carrera de origen, sin perjuicio de otros criterios específicos que establezca la sede. Los requisitos para solicitar Cambio sede son: a) No estar afecto/a a una causal de pérdida de la calidad de estudiante, según lo establecido en el artículo 46 del presente Reglamento. b) Cumplir con los requisitos específicos establecidos por la Unidad Académica respectiva, definidos en la normativa interna correspondiente. C) Haber cursado al menos un año en la sede de origen. TÍTULO XIl Traslado de Universidad Art. 56. Se entenderá por traslado de universidad al acto en virtud del cual un/a estudiante se cambia de otra universidad acreditada a la Universidad Católica del Norte, con el objeto de proseguir la misma u otra carrera o programa.'),\n",
       "  Document(metadata={'page': 5, 'source': 'PDF\\\\Reglamento-General-de-Docencia-de-Pregrado-2024-2.pdf'}, page_content='Art. 9. Estudiante especial: Estudiante que se inscribe, con la — autorización correspondiente de la unidad académica respectiva, en determinadas actividades académicas para adquirir o desarrollar competencias. Quien es estudiante especial no puede optar a un Grado Académico y/o Título Profesional de la Universidad Católica del Norte. El Reglamento de Docencia para estudiantes especiales de la Universidad Católica del Norte, define la situación académica y administrativa de quienes están en dicha categoría. TÍTULO 1Il Admisión y Matrícula Art. 10. El ingreso como estudiante regular se realiza a través de alguno de los siguientes procesos: a) Proceso Nacional de Admisión a las Universidades Chilenas. b) Ingresos especiales, los cuales se rigen por el Reglamento de ingresos especiales. C) Por traslado de Universidad, regido por el Título XII del presente Reglamento. Art. 11. El estudiantado deberá atenerse al proceso anual de matrícula dentro de los plazos establecidos en el Calendario de actividades docentes. Para conservar la calidad de estudiante regular, cada estudiante deberá dar cumplimiento a los pagos de matrícula que correspondan. Todo lo anterior, de acuerdo a lo establecido en el Reglamento de matrícula vigente y definido para estos efectos.'),\n",
       "  Document(metadata={'page': 6, 'source': 'PDF\\\\Reglamento-General-de-Docencia-de-Pregrado-2024-2.pdf'}, page_content='TÍTULO IV Estructura y Organización curricular Art. 12. Para efectos del presente reglamento, se definen los siguientes términos: a) Perfil de Egreso: declaración de habilidades y competencias terminales para una carrera o programa. b) Plan de estudio: es una explicitación estructurada que define los tiempos y las asignaturas correspondientes a las áreas que forman parte del proceso formativo conducente al logro de perfil de egreso: Ciclo básico, ciclo profesional, Plan de Formación General y Actividad de Titulación o graduación. C) Arquitectura curricular: organización de las actividades curriculares que dan cuenta de la trayectoria formativa, la que contempla: e Definición de Ciclo Básico y Ciclo Profesional. e Malla Curricular: Contempla las asignaturas o mádulos, prerrequisitos y la distribución de la carga académica. e Diagrama curricular: Representación gráfica de la malla curricular de una carrera, en sus relaciones de prerrequisitos y concurrencia de las asignaturas que lo componen: Nombre de las asignaturas o modulos, Carga académica expresada a través del sistema de créditos transferibles SCT), actividades de graduación y/o titulación. d) Nivel: Conjunto de asignaturas contenidas en un determinado semestre en el plan de estudios. e) Periodo Académico: Tiempo comprendido entre el inicio y fin del semestre fijado en el calendario de actividades docentes. \\n) Ciclo: Cada una de las dos etapas secuenciales en el Plan de Estudios \\n(Básico y Profesional). Art. 13. El ciclo básico contiene un conjunto de cursos y actividades académicas que conforman una secuencia curricular cuyo objetivo es dotar al estudiantado de una formación inicial que proporcionen los fundamentos para las actividades académicas del ciclo Profesional.')]}"
      ]
     },
     "execution_count": 68,
     "metadata": {},
     "output_type": "execute_result"
    }
   ],
   "source": [
    "response = qa.invoke({\"query\": \"¿Cuales son los tipos de estudiantes de intercambios hay?\"})\n",
    "response"
   ]
  },
  {
   "cell_type": "code",
   "execution_count": 69,
   "metadata": {},
   "outputs": [
    {
     "name": "stdout",
     "output_type": "stream",
     "text": [
      "\n",
      "\n",
      "\u001b[1m> Entering new StuffDocumentsChain chain...\u001b[0m\n",
      "\n",
      "\n",
      "\u001b[1m> Entering new LLMChain chain...\u001b[0m\n",
      "Prompt after formatting:\n",
      "\u001b[32;1m\u001b[1;3m \n",
      "Usa la siguiente información para responder las preguntas del usuario, \n",
      "- Eres un chatbot en la Universidad Católica Del Norte - Campus Guayacan, en la ciudad de Coquimbo.\n",
      "- Debes responder con fundamento, normalmente los usuarios esperaran respuestas en base a los artículos que tienen el texto y trata de entrar en detalle sobre el mismo.\n",
      "- Acompaña tu respuesta cuando sea necesario con información que pueda necesitar el alumno, siempre en base al documento.\n",
      "- Si no sabes la respuesta, simplemente di que no lo sabes, no intentes inventar una respuesta.\n",
      "- Trata de no responder con \"Se puede inferir\", solo responde con respusetas específicas con respecto al texto\n",
      "\n",
      "Contexto: Art. 57. Se considerará requisito mínimo para presentar la solicitud de traslado, acompañar la siguiente documentación oficial, en original: a) Certificado de alumno/a regular de la universidad de origen. b) Certificado de ingreso a la universidad de origen, indicando puntaje en cada una de las pruebas de selección consideradas para dicha admisión, exigiéndose al efecto un puntaje igual o superior al último ingreso a la UCN de la cohorte en cuestión. o) Concentración de notas, incluyendo la relación completa de todos los cursos aprobados y reprobados. d) Tener aprobadas el 70% (setenta por ciento) de las asignaturas del primer semestre de la carrera o programa de origen. e) Certificado de no impedimento que señale explícitamente que el estudiante está habilitado para proseguir estudios en su universidad de origen, el que no podrá tener más de 15 días de diferencia entra la fecha de extensión y la fecha de la solicitud. f) En el caso de estudiantes de pedagogías, deberán cumplir con los requisitos de la Ley N*20.903. Art. 58. La solicitud de traslado se realizará sólo una al año, de acuerdo a lo establecido en el calendario de actividades docentes y seguirá su trámite según los procedimientos vigentes para tal efecto, acompañada de los antecedentes indicados en el artículo 57 de este reglamento. La solicitud de traslado será resuelta por al consejo de carrera o programa respectivo. TÍTULO X1l Movilidad estudiantil Art. 59. Cada estudiante que participa en movilidad estudiantil mantiene la condición de estudiante regular de la Universidad Católica del Norte.\n",
      "\n",
      "Los requisitos para realizar la solicitud son: a) La asignatura debe ser 100% teórica (cátedra) o, en caso de tener un componente práctico, éste debe encontrarse aprobado previamente. b) Podrá solicitarlo en primera o segunda oportunidad. \n",
      ") Sólo podrá solicitar una asignatura por semestre en esta modalidad d) Las asignaturas que pueden ser rendidas por examen, estarán indicadas en el libro de carrera o programa respectivo. La solicitud de examen será presentada por cada estudiante en el departamento de gestión académica y curricular en Antofagasta o en el departamento de registro curricular en Coquimbo, según corresponda, en los plazos establecidos en el calendario de actividades docentes. Será resuelta por el Consejo de Carrera 0 Programa. En caso de tratarse de asignaturas de servicios, será necesaria la consulta a la unidad correspondiente. Los exámenes podrán ser orales, escritos o considerar ambas modalidades. El examen evaluará al estudiantado en estricta relación al programa oficial de la asignatura. Se deberá rendir el examen según las fechas establecidas en el calendario de actividades docentes. La calificación deberá ser ingresada inmediatamente al sistema informático de calificaciones después de rendido el examen. Cada estudiante se presentará al examen sin nota y la calificación que obtenga se expresará en la escala señalada en el artículo 28 del presente Reglamento. Este examen se considerará como asignatura cursada para los efectos del artículo 29 del presente Reglamento. TÍTULO 1X Interrupción de estudios Art. 40. Cada estudiante podrá interrumpir sus estudios por medio de dos mecanismos distintos. Estos son: 1. Anulación de Periodo Académico. 2. Retiro Temporal. 3. Renuncia a la universidad.\n",
      "\n",
      "La resolución de esta solicitud esta sujeta a la ponderación de diversos criterios tales como puntaje de admisión, número de cupos disponibles, test vocacional y notas obtenidas en la carrera de origen, sin perjuicio de otros criterios específicos que establezca la carrera. Art. 55. Se entenderá por cambio de sede el acto por medio del cual un/una estudiante deja de pertenecer a la sede de origen de su carrera o programa, quedando adscrito a la misma carrera o programa en una sede distinta de la Universidad. Se aceptará sólo un (1) cambio de sede durante sus estudios en la universidad. Los egresados quienes aún no han concluido su actividad de titulación o graduación, no podrán realizar cambio de sede para finalizar su proceso. La resolución de esta solicitud está sujeta a la ponderación de diversos criterios tales como puntaje de admisión, número de cupos disponibles, notas obtenidas en la carrera de origen, sin perjuicio de otros criterios específicos que establezca la sede. Los requisitos para solicitar Cambio sede son: a) No estar afecto/a a una causal de pérdida de la calidad de estudiante, según lo establecido en el artículo 46 del presente Reglamento. b) Cumplir con los requisitos específicos establecidos por la Unidad Académica respectiva, definidos en la normativa interna correspondiente. C) Haber cursado al menos un año en la sede de origen. TÍTULO XIl Traslado de Universidad Art. 56. Se entenderá por traslado de universidad al acto en virtud del cual un/a estudiante se cambia de otra universidad acreditada a la Universidad Católica del Norte, con el objeto de proseguir la misma u otra carrera o programa.\n",
      "Pregunta: ¿requisito  mínimo  para  presentar  la  solicitud  de  traslado,?\n",
      "\n",
      "responde siempre en español a no ser que te pidan lo contrario\n",
      "Respuesta útil:\n",
      "\n",
      "\u001b[0m\n",
      "\n",
      "\u001b[1m> Finished chain.\u001b[0m\n",
      "\n",
      "\u001b[1m> Finished chain.\u001b[0m\n",
      "Según el Artículo 57 del Reglamento de la Universidad Católica del Norte, los requisitos mínimos para presentar la solicitud de traslado son:\n",
      "\n",
      "a) Certificado de alumno/a regular de la universidad de origen.\n",
      "b) Certificado de ingreso a la universidad de origen, indicando puntaje en cada una de las pruebas de selección consideradas para dicha admisión.\n",
      "c) Concentración de notas, incluyendo la relación completa de todos los cursos aprobados y reprobados.\n",
      "d) Tener aprobadas el 70% (setenta por ciento) de las asignaturas del primer semestre de la carrera o programa de origen.\n",
      "e) Certificado de no impedimento que señale explícitamente que el estudiante está habilitado para proseguir estudios en su universidad de origen.\n",
      "\n",
      "Es importante destacar que también se menciona el requisito específico para estudiantes de pedagogías, que deben cumplir con los requisitos establecidos por la Ley N° 20.903.\n",
      "Los detalles de esta respuesta fueron encontrados en el documento \"Reglamento-General-de-Docencia-de-Pregrado-2024-2.pdf\", en la página número 27.\n"
     ]
    }
   ],
   "source": [
    "response = qa.invoke({\"query\": \"¿requisito  mínimo  para  presentar  la  solicitud  de  traslado,?\"})\n",
    "full_response(response)"
   ]
  },
  {
   "cell_type": "markdown",
   "metadata": {},
   "source": [
    "### Reglamento-permanencia-UCN.Nuevo_.-D4-2023-salida"
   ]
  },
  {
   "cell_type": "code",
   "execution_count": 73,
   "metadata": {},
   "outputs": [
    {
     "name": "stdout",
     "output_type": "stream",
     "text": [
      "\n",
      "\n",
      "\u001b[1m> Entering new StuffDocumentsChain chain...\u001b[0m\n",
      "\n",
      "\n",
      "\u001b[1m> Entering new LLMChain chain...\u001b[0m\n",
      "Prompt after formatting:\n",
      "\u001b[32;1m\u001b[1;3m \n",
      "Usa la siguiente información para responder las preguntas del usuario, \n",
      "- Eres un chatbot en la Universidad Católica Del Norte - Campus Guayacan, en la ciudad de Coquimbo.\n",
      "- Debes responder con fundamento, normalmente los usuarios esperaran respuestas en base a los artículos que tienen el texto y trata de entrar en detalle sobre el mismo.\n",
      "- Acompaña tu respuesta cuando sea necesario con información que pueda necesitar el alumno, siempre en base al documento.\n",
      "- Si no sabes la respuesta, simplemente di que no lo sabes, no intentes inventar una respuesta.\n",
      "- Trata de no responder con \"Se puede inferir\", solo responde con respusetas específicas con respecto al texto\n",
      "\n",
      "Contexto: e Tener inscrita al menos 2 asignaturas por semestre en curso y no quedar con menos de 12 SCT luego de la renuncia. \n",
      "* Tener inscrita en primera o segunda oportunidad aquella(s) actividad(es) a la(s) cual(es) desea renunciar. \n",
      "* No haber renunciado con anterioridad a la(s) misma(s) actividad(es). * Noestar cursando la(s) actividad(es) en régimen de Tutoría. TÍTULO VI Evaluaciones y calificaciones Art. 25. Toda actividad curricular deberá ser sometida a un proceso de evaluación académica. Los procedimientos evaluativos guardarán una adecuada relación con los resultados de aprendizaje, contenidos y actividades del programa. Podrán realizarse mediante pruebas escritas, interrogaciones orales, informes individuales o de grupo, u otro procedimiento que determine cada docente responsable, según las características propias de la asignatura y de las orientaciones metodológicas dispuestas en el programa de asignatura, y éstas deberán estar alineadas con el Proyecto Educativo Institucional. Todo proceso evaluativo calificado deberá ser acompañado de un instrumento de evaluación tales como rúbricas, pautas, entre otras. Art. 26. Dentro de las dos primeras semanas de cada periodo académico, el profesorado deberá dara conocer a los estudiantes, la siguiente información en la plataforma de gestión para el aprendizaje (Campus virtual): 1. Programa de la asignatura. 2. Planificación Didáctica Art. 27. Cada asignatura deberá definir 3 calificaciones parciales como mínimo en su componente principal para ser realizadas durante el semestre, las que deberán ser definidas en el proceso de oferta académica, junto a las fechas de tales evaluaciones. Cualquier excepción deberá ser autorizada por la Dirección General de Pregrado en Antofagasta y la Secretaría de Pregrado y Estudiantil en Coquimbo según corresponda, salvo excepciones explicitadas en el respectivo libro de carrera o programa.\n",
      "\n",
      "en horarioy/o díainhábil, no habiéndolo consentido por escritoelo lafuncionario/a paraeldesarrollo deunadeterminada actividad. Artículo6 Seconsiderarán infracciones menosgraves: a) Laincurrencia enmásdeunaconducta calificada comoinfracción leveo larecurrencia deunadeellasenmásdeunaoportunidad. b)Resistirse, encualquier forma,acumplirlasdisposiciones emanadas delasautoridades delaUniversidad, Unidad,académico/as y personal deapoyoa laacademia quese encuentren respaldas enlareglamentación UCN. c) Lautilización delnombreo logotipo delaUniversidad o desusautoridades, sinprevia autorización delfuncionario competente o elmalusodeéstas. d) Elarrogarse indebidamente larepresentación dealgúno algunos miembros de la comunidad universitaria.\n",
      "\n",
      "insttuyendo, el/laFiscalpodrádelegarlaprácticadeellasaun/unaFiscalAd-hoc. Artículo 30 Agotada lainvestigación, el/laFiscalladeclarará cerraday,enelmismoacto,formulará los cargosopropondrá elsobreseimiento delo delos/lasestudiantes inculpados/as, paralocual tendrá elplazodetresdíashábiles,contados desdelafechadesuterminación. Sidela investigación apareciere quehayméritosparaformularcargos,asílohará,deloscualesdará conocimiento escritoypersonalaloalosestudiantes inculpados yenelcasodeimposibilidad denotificación personalserealizaráporcartacertificada ocorreoelectrónico institucional o elquelapersonautiliceenformahabitual.Enelcasodesobreseimiento, seinformaráala unidad académica y alDepartamento degestiónacadémica y curricular enAntofagasta oa registrocurricular enCoquimbo siesquehubosuspensión anterior.\n",
      "Pregunta: ¿Que es una Infracción leve?\n",
      "\n",
      "responde siempre en español a no ser que te pidan lo contrario\n",
      "Respuesta útil:\n",
      "\n",
      "\u001b[0m\n",
      "\n",
      "\u001b[1m> Finished chain.\u001b[0m\n",
      "\n",
      "\u001b[1m> Finished chain.\u001b[0m\n"
     ]
    },
    {
     "data": {
      "text/plain": [
       "'Según el artículo 6 del texto proporcionado, se considerarán infracciones menos graves las siguientes conductas:\\n\\na) La reincidencia en más de una conducta calificada como infracción leve o la recurrencia de una de ellas en más de un oportunidad.\\n\\nb) Resistirse, de cualquier forma, a cumplir las disposiciones emanadas de las autoridades de la Universidad, Unidad Académico/ás y personal de apoyo a la academia que se encuentren respaldas en la reglamentación UCN.\\n\\nc) La utilización del nombre o logotipo de la Universidad o sus autoridades, sin previa autorización del funcionario competente o el mal uso de estas.\\n\\nd) El arrogarse indebidamente la representación de algún(s) miembros de la comunidad universitaria.\\n\\nEs importante destacar que no se encuentra definición explícita de \"infracción leve\" en el texto proporcionado, pero si se menciona que las conductas mencionadas anteriormente se consideran infracciones menos graves.'"
      ]
     },
     "execution_count": 73,
     "metadata": {},
     "output_type": "execute_result"
    }
   ],
   "source": [
    "response = qa.invoke({\"query\": \"¿Que es una Infracción leve?\"})\n",
    "response['result']\n"
   ]
  },
  {
   "cell_type": "code",
   "execution_count": 75,
   "metadata": {},
   "outputs": [
    {
     "name": "stdout",
     "output_type": "stream",
     "text": [
      "\n",
      "\n",
      "\u001b[1m> Entering new StuffDocumentsChain chain...\u001b[0m\n",
      "\n",
      "\n",
      "\u001b[1m> Entering new LLMChain chain...\u001b[0m\n",
      "Prompt after formatting:\n",
      "\u001b[32;1m\u001b[1;3m \n",
      "Usa la siguiente información para responder las preguntas del usuario, \n",
      "- Eres un chatbot en la Universidad Católica Del Norte - Campus Guayacan, en la ciudad de Coquimbo.\n",
      "- Debes responder con fundamento, normalmente los usuarios esperaran respuestas en base a los artículos que tienen el texto y trata de entrar en detalle sobre el mismo.\n",
      "- Acompaña tu respuesta cuando sea necesario con información que pueda necesitar el alumno, siempre en base al documento.\n",
      "- Si no sabes la respuesta, simplemente di que no lo sabes, no intentes inventar una respuesta.\n",
      "- Trata de no responder con \"Se puede inferir\", solo responde con respusetas específicas con respecto al texto\n",
      "\n",
      "Contexto: en horarioy/o díainhábil, no habiéndolo consentido por escritoelo lafuncionario/a paraeldesarrollo deunadeterminada actividad. Artículo6 Seconsiderarán infracciones menosgraves: a) Laincurrencia enmásdeunaconducta calificada comoinfracción leveo larecurrencia deunadeellasenmásdeunaoportunidad. b)Resistirse, encualquier forma,acumplirlasdisposiciones emanadas delasautoridades delaUniversidad, Unidad,académico/as y personal deapoyoa laacademia quese encuentren respaldas enlareglamentación UCN. c) Lautilización delnombreo logotipo delaUniversidad o desusautoridades, sinprevia autorización delfuncionario competente o elmalusodeéstas. d) Elarrogarse indebidamente larepresentación dealgúno algunos miembros de la comunidad universitaria.\n",
      "\n",
      "e Tener inscrita al menos 2 asignaturas por semestre en curso y no quedar con menos de 12 SCT luego de la renuncia. \n",
      "* Tener inscrita en primera o segunda oportunidad aquella(s) actividad(es) a la(s) cual(es) desea renunciar. \n",
      "* No haber renunciado con anterioridad a la(s) misma(s) actividad(es). * Noestar cursando la(s) actividad(es) en régimen de Tutoría. TÍTULO VI Evaluaciones y calificaciones Art. 25. Toda actividad curricular deberá ser sometida a un proceso de evaluación académica. Los procedimientos evaluativos guardarán una adecuada relación con los resultados de aprendizaje, contenidos y actividades del programa. Podrán realizarse mediante pruebas escritas, interrogaciones orales, informes individuales o de grupo, u otro procedimiento que determine cada docente responsable, según las características propias de la asignatura y de las orientaciones metodológicas dispuestas en el programa de asignatura, y éstas deberán estar alineadas con el Proyecto Educativo Institucional. Todo proceso evaluativo calificado deberá ser acompañado de un instrumento de evaluación tales como rúbricas, pautas, entre otras. Art. 26. Dentro de las dos primeras semanas de cada periodo académico, el profesorado deberá dara conocer a los estudiantes, la siguiente información en la plataforma de gestión para el aprendizaje (Campus virtual): 1. Programa de la asignatura. 2. Planificación Didáctica Art. 27. Cada asignatura deberá definir 3 calificaciones parciales como mínimo en su componente principal para ser realizadas durante el semestre, las que deberán ser definidas en el proceso de oferta académica, junto a las fechas de tales evaluaciones. Cualquier excepción deberá ser autorizada por la Dirección General de Pregrado en Antofagasta y la Secretaría de Pregrado y Estudiantil en Coquimbo según corresponda, salvo excepciones explicitadas en el respectivo libro de carrera o programa.\n",
      "\n",
      "La resolución de esta solicitud esta sujeta a la ponderación de diversos criterios tales como puntaje de admisión, número de cupos disponibles, test vocacional y notas obtenidas en la carrera de origen, sin perjuicio de otros criterios específicos que establezca la carrera. Art. 55. Se entenderá por cambio de sede el acto por medio del cual un/una estudiante deja de pertenecer a la sede de origen de su carrera o programa, quedando adscrito a la misma carrera o programa en una sede distinta de la Universidad. Se aceptará sólo un (1) cambio de sede durante sus estudios en la universidad. Los egresados quienes aún no han concluido su actividad de titulación o graduación, no podrán realizar cambio de sede para finalizar su proceso. La resolución de esta solicitud está sujeta a la ponderación de diversos criterios tales como puntaje de admisión, número de cupos disponibles, notas obtenidas en la carrera de origen, sin perjuicio de otros criterios específicos que establezca la sede. Los requisitos para solicitar Cambio sede son: a) No estar afecto/a a una causal de pérdida de la calidad de estudiante, según lo establecido en el artículo 46 del presente Reglamento. b) Cumplir con los requisitos específicos establecidos por la Unidad Académica respectiva, definidos en la normativa interna correspondiente. C) Haber cursado al menos un año en la sede de origen. TÍTULO XIl Traslado de Universidad Art. 56. Se entenderá por traslado de universidad al acto en virtud del cual un/a estudiante se cambia de otra universidad acreditada a la Universidad Católica del Norte, con el objeto de proseguir la misma u otra carrera o programa.\n",
      "Pregunta: ¿Cuales son los tipos de infracciones que existen?\n",
      "\n",
      "responde siempre en español a no ser que te pidan lo contrario\n",
      "Respuesta útil:\n",
      "\n",
      "\u001b[0m\n",
      "\n",
      "\u001b[1m> Finished chain.\u001b[0m\n",
      "\n",
      "\u001b[1m> Finished chain.\u001b[0m\n"
     ]
    },
    {
     "data": {
      "text/plain": [
       "'Según el artículo 6 del Reglamento Interno de la Universidad Católica del Norte, Campus Guayacán, hay varios tipos de infracciones. \\n\\nSe considerarán infracciones menos graves:\\n\\na) La recurrencia en más de una ocasión de una conducta calificada como infracción leve o la recurrencia de dicha infracción en más de un oportunidad.\\nb) Resistirse, en cualquier forma, a cumplir las disposiciones emanadas de las autoridades de la Universidad, Unidad Académico/as y personal de apoyo a la academia que se encuentren respaldas en el reglamento UCN.\\nc) La utilización del nombre o logotipo de la Universidad o de sus autoridades, sin previa autorización del funcionario competente o el mal uso de estas.\\nd) El arrogarse indebidamente la representación de alguno(s) miembros de la comunidad universitaria.\\n\\ne) Tener inscrita al menos 2 asignaturas por semestre en curso y no quedar con menos de 12 SCT luego de la renuncia. \\n* Tener inscrita en primera o segunda oportunidad aquella(s) actividad(es) a la(s) cual(es) desea renunciar. \\n* No haber renunciado con anterioridad a la(s) misma(s) actividad(es). * Noestar cursando la(s) actividad(es) en régimen de Tutoría.\\n\\nEstas infracciones menos graves tendrán consecuencias menores, pero no se especifican en el documento proporcionado.'"
      ]
     },
     "execution_count": 75,
     "metadata": {},
     "output_type": "execute_result"
    }
   ],
   "source": [
    "response = qa.invoke({\"query\": \"¿Cuales son los tipos de infracciones que existen?\"})\n",
    "response['result']"
   ]
  }
 ],
 "metadata": {
  "kernelspec": {
   "display_name": "thisEnvironment",
   "language": "python",
   "name": "python3"
  },
  "language_info": {
   "codemirror_mode": {
    "name": "ipython",
    "version": 3
   },
   "file_extension": ".py",
   "mimetype": "text/x-python",
   "name": "python",
   "nbconvert_exporter": "python",
   "pygments_lexer": "ipython3",
   "version": "3.12.0"
  }
 },
 "nbformat": 4,
 "nbformat_minor": 2
}
