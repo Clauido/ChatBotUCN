{
 "cells": [
  {
   "cell_type": "code",
   "execution_count": 39,
   "metadata": {},
   "outputs": [],
   "source": [
    "from langchain_community.document_loaders import PyPDFDirectoryLoader\n",
    "from langchain.text_splitter import RecursiveCharacterTextSplitter\n",
    "from langchain_community.embeddings.fastembed import FastEmbedEmbeddings\n",
    "import os\n",
    "import re\n",
    "from langchain_postgres.vectorstores import PGVector\n",
    "from dotenv import load_dotenv\n"
   ]
  },
  {
   "cell_type": "code",
   "execution_count": 56,
   "metadata": {},
   "outputs": [],
   "source": [
    "load_dotenv()\n",
    "\n",
    "PGV_USER=os.getenv(\"PGV_USER\")\n",
    "PGV_PASSWORD=os.getenv(\"PGV_PASSWORD\")\n",
    "PGV_HOST=os.getenv(\"PGV_HOST\")\n",
    "PGV_PORT=os.getenv(\"PGV_PORT\")\n",
    "PGV_DATABASE_NAME=os.getenv(\"PGV_DATABASE_NAME\")"
   ]
  },
  {
   "cell_type": "code",
   "execution_count": 30,
   "metadata": {},
   "outputs": [],
   "source": [
    "CHUNK_SIZE = 2000\n",
    "CHUNK_OVERLAP = 500"
   ]
  },
  {
   "cell_type": "code",
   "execution_count": 31,
   "metadata": {},
   "outputs": [
    {
     "name": "stderr",
     "output_type": "stream",
     "text": [
      "Fetching 5 files: 100%|██████████| 5/5 [00:00<?, ?it/s]\n"
     ]
    }
   ],
   "source": [
    "moder_for_embedding = FastEmbedEmbeddings(model_name=\"sentence-transformers/all-MiniLM-L6-v2\")"
   ]
  },
  {
   "cell_type": "code",
   "execution_count": 32,
   "metadata": {},
   "outputs": [
    {
     "name": "stderr",
     "output_type": "stream",
     "text": [
      "<>:1: SyntaxWarning: invalid escape sequence '\\D'\n",
      "<>:1: SyntaxWarning: invalid escape sequence '\\D'\n",
      "C:\\Users\\claud\\AppData\\Local\\Temp\\ipykernel_15340\\2345177032.py:1: SyntaxWarning: invalid escape sequence '\\D'\n",
      "  direc = 'C:/Users/claud\\Desktop/Cursos/LearningLangChain/Deploy/PDF'  # tener ojo con esta ruta, porque o sino no se hace el embeddign correcto\n"
     ]
    }
   ],
   "source": [
    "\n",
    "direc = 'C:/Users/claud\\Desktop/Cursos/LearningLangChain/Deploy/PDF'  # tener ojo con esta ruta, porque o sino no se hace el embeddign correcto\n",
    "loader = PyPDFDirectoryLoader(direc)"
   ]
  },
  {
   "cell_type": "code",
   "execution_count": 64,
   "metadata": {},
   "outputs": [
    {
     "name": "stdout",
     "output_type": "stream",
     "text": [
      "56\n"
     ]
    }
   ],
   "source": [
    "pdfs = loader.load()\n",
    "\n",
    "for pdf in pdfs:\n",
    "    pdf.page_content = re.sub(r'\\n\\*?\\s*\\n\\*?', ' ', pdf.page_content)\n",
    "    pdf.page_content = re.sub(r'\\s+\\b', ' ', pdf.page_content)\n",
    "\n",
    "text_splitter = RecursiveCharacterTextSplitter(chunk_size=CHUNK_SIZE, chunk_overlap=CHUNK_OVERLAP)\n",
    "chunks = text_splitter.split_documents(pdfs)\n",
    "print(len(chunks))\n"
   ]
  },
  {
   "cell_type": "code",
   "execution_count": null,
   "metadata": {},
   "outputs": [],
   "source": [
    "connection = f'postgresql+psycopg://{PGV_USER}:{PGV_PASSWORD}@{PGV_HOST}:{PGV_PORT}/{PGV_DATABASE_NAME}'"
   ]
  },
  {
   "cell_type": "code",
   "execution_count": 48,
   "metadata": {},
   "outputs": [
    {
     "data": {
      "text/plain": [
       "VectorStoreRetriever(tags=['PGVector', 'FastEmbedEmbeddings'], vectorstore=<langchain_postgres.vectorstores.PGVector object at 0x00000188B13ACB30>, search_kwargs={})"
      ]
     },
     "execution_count": 48,
     "metadata": {},
     "output_type": "execute_result"
    }
   ],
   "source": [
    "db = PGVector.from_documents(chunks,moder_for_embedding,connection=connection)"
   ]
  },
  {
   "cell_type": "code",
   "execution_count": null,
   "metadata": {},
   "outputs": [],
   "source": []
  },
  {
   "cell_type": "code",
   "execution_count": 63,
   "metadata": {},
   "outputs": [
    {
     "name": "stdout",
     "output_type": "stream",
     "text": [
      "Cantidad de documentos almacenados: 280\n"
     ]
    }
   ],
   "source": [
    "from sqlalchemy import create_engine\n",
    "from sqlalchemy.orm import sessionmaker\n",
    "from sqlalchemy import text\n",
    "\n",
    "# Cadena de conexión para PostgreSQL (reemplaza con tus valores)\n",
    "connection_str = f'postgresql+psycopg://{PGV_USER}:{PGV_PASSWORD}@{PGV_HOST}:{PGV_PORT}/{PGV_DATABASE_NAME}'\n",
    "\n",
    "# Crear el motor de conexión con SQLAlchemy\n",
    "engine = create_engine(connection_str)\n",
    "\n",
    "# Crear una sesión para interactuar con la base de datos\n",
    "Session = sessionmaker(bind=engine)\n",
    "session = Session()\n",
    "\n",
    "# Nombre de la tabla donde se almacenan los documentos en PGVector\n",
    "table_name = \"langchain_pg_embedding\"  # Reemplaza con el nombre real de la tabla\n",
    "\n",
    "# Ejecutar una consulta SQL para contar los documentos en la tabla\n",
    "count_query = text(f\"SELECT COUNT(*) FROM {table_name}\")\n",
    "\n",
    "# Ejecutar la consulta y obtener el resultado\n",
    "result = session.execute(count_query).fetchone()\n",
    "document_count = result[0] if result else 0\n",
    "\n",
    "# Imprimir la cantidad de documentos\n",
    "print(f\"Cantidad de documentos almacenados: {document_count}\")\n"
   ]
  },
  {
   "cell_type": "code",
   "execution_count": null,
   "metadata": {},
   "outputs": [],
   "source": [
    "retriever = db.as_retriever()"
   ]
  },
  {
   "cell_type": "code",
   "execution_count": null,
   "metadata": {},
   "outputs": [
    {
     "data": {
      "text/plain": [
       "[Document(id='e361c27b-6286-490b-9628-384aaaa302ed', metadata={'page': 4, 'source': 'C:\\\\Users\\\\claud\\\\Desktop\\\\Cursos\\\\LearningLangChain\\\\Deploy\\\\PDF\\\\Reglamento-General-de-Docencia-de-Pregrado-2024-2.pdf'}, page_content='Art. 6 Estudiante regular: Es quien ingresa a través de los procedimientos de admisión, que establece el Título II| del presente Reglamento, y adscrito a un programa o carrera determinada, cursa estudios conducentes a un grado académico y/o título profesional. La calidad de estudiante regular de la Universidad Católica del Norte se adquiere una vez que la matrícula ha sido formalizada en conformidad a las normas correspondientes. Art. 7. Estudiante egresado/a: Corresponde a estudiante regular que ha aprobado las actividades curriculares establecidas en el libro de carrera o programa respectivo y a quienes solo reste cumplir con las actividades finales exigidas para obtener el grado o titulo respectivo. Art. 8. Estudiante de intercambio saliente: Estudiante de la UCN, quien conservando la calidad de estudiante regular, realiza cualquier tipo de actividad académica en otra universidad nacional o extranjera. Se distinguen 2 tipos de intercambio saliente: e Intercambio Parcial: Cuando en el semestre de intercambio la carga esta distribuida en ambas universidades (origen y destino). e Intercambio Total: Cuando la carga completa del semestre está asociada a la universidad de destino. Esta calidad de estudiante incluye los que se encuentran en programas de doble titulación en una universidad extranjera. Estudiante de intercambio entrante: Estudiante proveniente de otra universidad nacional o extranjera quien, conservando la calidad de estudiante regular de su universidad de origen, realiza cualquier tipo de actividad académica en la Universidad Católica del Norte. Esta calidad de estudiante incluye a quienes se encuentran en programas de doble titulación procedentes de universidades extranjeras.'),\n",
       " Document(id='e6392484-f5ed-47f7-966f-73c809f61aa7', metadata={'page': 12, 'source': 'C:\\\\Users\\\\claud\\\\Desktop\\\\Cursos\\\\LearningLangChain\\\\Deploy\\\\PDF\\\\Reglamento-General-de-Docencia-de-Pregrado-2024-2.pdf'}, page_content='e Tener inscrita al menos 2 asignaturas por semestre en curso y no quedar con menos de 12 SCT luego de la renuncia. \\n* Tener inscrita en primera o segunda oportunidad aquella(s) actividad(es) a la(s) cual(es) desea renunciar. \\n* No haber renunciado con anterioridad a la(s) misma(s) actividad(es). * Noestar cursando la(s) actividad(es) en régimen de Tutoría. TÍTULO VI Evaluaciones y calificaciones Art. 25. Toda actividad curricular deberá ser sometida a un proceso de evaluación académica. Los procedimientos evaluativos guardarán una adecuada relación con los resultados de aprendizaje, contenidos y actividades del programa. Podrán realizarse mediante pruebas escritas, interrogaciones orales, informes individuales o de grupo, u otro procedimiento que determine cada docente responsable, según las características propias de la asignatura y de las orientaciones metodológicas dispuestas en el programa de asignatura, y éstas deberán estar alineadas con el Proyecto Educativo Institucional. Todo proceso evaluativo calificado deberá ser acompañado de un instrumento de evaluación tales como rúbricas, pautas, entre otras. Art. 26. Dentro de las dos primeras semanas de cada periodo académico, el profesorado deberá dara conocer a los estudiantes, la siguiente información en la plataforma de gestión para el aprendizaje (Campus virtual): 1. Programa de la asignatura. 2. Planificación Didáctica Art. 27. Cada asignatura deberá definir 3 calificaciones parciales como mínimo en su componente principal para ser realizadas durante el semestre, las que deberán ser definidas en el proceso de oferta académica, junto a las fechas de tales evaluaciones. Cualquier excepción deberá ser autorizada por la Dirección General de Pregrado en Antofagasta y la Secretaría de Pregrado y Estudiantil en Coquimbo según corresponda, salvo excepciones explicitadas en el respectivo libro de carrera o programa.'),\n",
       " Document(id='89cdf549-b089-45d0-a01a-cfd6c6ebc80d', metadata={'page': 26, 'source': 'C:\\\\Users\\\\claud\\\\Desktop\\\\Cursos\\\\LearningLangChain\\\\Deploy\\\\PDF\\\\Reglamento-General-de-Docencia-de-Pregrado-2024-2.pdf'}, page_content='Art. 57. Se considerará requisito mínimo para presentar la solicitud de traslado, acompañar la siguiente documentación oficial, en original: a) Certificado de alumno/a regular de la universidad de origen. b) Certificado de ingreso a la universidad de origen, indicando puntaje en cada una de las pruebas de selección consideradas para dicha admisión, exigiéndose al efecto un puntaje igual o superior al último ingreso a la UCN de la cohorte en cuestión. o) Concentración de notas, incluyendo la relación completa de todos los cursos aprobados y reprobados. d) Tener aprobadas el 70% (setenta por ciento) de las asignaturas del primer semestre de la carrera o programa de origen. e) Certificado de no impedimento que señale explícitamente que el estudiante está habilitado para proseguir estudios en su universidad de origen, el que no podrá tener más de 15 días de diferencia entra la fecha de extensión y la fecha de la solicitud. f) En el caso de estudiantes de pedagogías, deberán cumplir con los requisitos de la Ley N*20.903. Art. 58. La solicitud de traslado se realizará sólo una al año, de acuerdo a lo establecido en el calendario de actividades docentes y seguirá su trámite según los procedimientos vigentes para tal efecto, acompañada de los antecedentes indicados en el artículo 57 de este reglamento. La solicitud de traslado será resuelta por al consejo de carrera o programa respectivo. TÍTULO X1l Movilidad estudiantil Art. 59. Cada estudiante que participa en movilidad estudiantil mantiene la condición de estudiante regular de la Universidad Católica del Norte.'),\n",
       " Document(id='eb3a095c-5a5c-4934-b7b5-af06308a7c05', metadata={'page': 25, 'source': 'C:\\\\Users\\\\claud\\\\Desktop\\\\Cursos\\\\LearningLangChain\\\\Deploy\\\\PDF\\\\Reglamento-General-de-Docencia-de-Pregrado-2024-2.pdf'}, page_content='La resolución de esta solicitud esta sujeta a la ponderación de diversos criterios tales como puntaje de admisión, número de cupos disponibles, test vocacional y notas obtenidas en la carrera de origen, sin perjuicio de otros criterios específicos que establezca la carrera. Art. 55. Se entenderá por cambio de sede el acto por medio del cual un/una estudiante deja de pertenecer a la sede de origen de su carrera o programa, quedando adscrito a la misma carrera o programa en una sede distinta de la Universidad. Se aceptará sólo un (1) cambio de sede durante sus estudios en la universidad. Los egresados quienes aún no han concluido su actividad de titulación o graduación, no podrán realizar cambio de sede para finalizar su proceso. La resolución de esta solicitud está sujeta a la ponderación de diversos criterios tales como puntaje de admisión, número de cupos disponibles, notas obtenidas en la carrera de origen, sin perjuicio de otros criterios específicos que establezca la sede. Los requisitos para solicitar Cambio sede son: a) No estar afecto/a a una causal de pérdida de la calidad de estudiante, según lo establecido en el artículo 46 del presente Reglamento. b) Cumplir con los requisitos específicos establecidos por la Unidad Académica respectiva, definidos en la normativa interna correspondiente. C) Haber cursado al menos un año en la sede de origen. TÍTULO XIl Traslado de Universidad Art. 56. Se entenderá por traslado de universidad al acto en virtud del cual un/a estudiante se cambia de otra universidad acreditada a la Universidad Católica del Norte, con el objeto de proseguir la misma u otra carrera o programa.')]"
      ]
     },
     "execution_count": 44,
     "metadata": {},
     "output_type": "execute_result"
    }
   ],
   "source": [
    "docs= retriever.invoke(\"¿Que es un alumno regular?\")\n",
    "docs"
   ]
  },
  {
   "cell_type": "code",
   "execution_count": null,
   "metadata": {},
   "outputs": [],
   "source": [
    "vector_store = PGVector(\n",
    "            embeddings=moder_for_embedding,\n",
    "            connection=connection,\n",
    "            use_jsonb=True,\n",
    "        )"
   ]
  },
  {
   "cell_type": "code",
   "execution_count": null,
   "metadata": {},
   "outputs": [],
   "source": [
    "retriever = vector_store.as_retriever()"
   ]
  },
  {
   "cell_type": "code",
   "execution_count": null,
   "metadata": {},
   "outputs": [
    {
     "data": {
      "text/plain": [
       "[Document(id='e361c27b-6286-490b-9628-384aaaa302ed', metadata={'page': 4, 'source': 'C:\\\\Users\\\\claud\\\\Desktop\\\\Cursos\\\\LearningLangChain\\\\Deploy\\\\PDF\\\\Reglamento-General-de-Docencia-de-Pregrado-2024-2.pdf'}, page_content='Art. 6 Estudiante regular: Es quien ingresa a través de los procedimientos de admisión, que establece el Título II| del presente Reglamento, y adscrito a un programa o carrera determinada, cursa estudios conducentes a un grado académico y/o título profesional. La calidad de estudiante regular de la Universidad Católica del Norte se adquiere una vez que la matrícula ha sido formalizada en conformidad a las normas correspondientes. Art. 7. Estudiante egresado/a: Corresponde a estudiante regular que ha aprobado las actividades curriculares establecidas en el libro de carrera o programa respectivo y a quienes solo reste cumplir con las actividades finales exigidas para obtener el grado o titulo respectivo. Art. 8. Estudiante de intercambio saliente: Estudiante de la UCN, quien conservando la calidad de estudiante regular, realiza cualquier tipo de actividad académica en otra universidad nacional o extranjera. Se distinguen 2 tipos de intercambio saliente: e Intercambio Parcial: Cuando en el semestre de intercambio la carga esta distribuida en ambas universidades (origen y destino). e Intercambio Total: Cuando la carga completa del semestre está asociada a la universidad de destino. Esta calidad de estudiante incluye los que se encuentran en programas de doble titulación en una universidad extranjera. Estudiante de intercambio entrante: Estudiante proveniente de otra universidad nacional o extranjera quien, conservando la calidad de estudiante regular de su universidad de origen, realiza cualquier tipo de actividad académica en la Universidad Católica del Norte. Esta calidad de estudiante incluye a quienes se encuentran en programas de doble titulación procedentes de universidades extranjeras.'),\n",
       " Document(id='e6392484-f5ed-47f7-966f-73c809f61aa7', metadata={'page': 12, 'source': 'C:\\\\Users\\\\claud\\\\Desktop\\\\Cursos\\\\LearningLangChain\\\\Deploy\\\\PDF\\\\Reglamento-General-de-Docencia-de-Pregrado-2024-2.pdf'}, page_content='e Tener inscrita al menos 2 asignaturas por semestre en curso y no quedar con menos de 12 SCT luego de la renuncia. \\n* Tener inscrita en primera o segunda oportunidad aquella(s) actividad(es) a la(s) cual(es) desea renunciar. \\n* No haber renunciado con anterioridad a la(s) misma(s) actividad(es). * Noestar cursando la(s) actividad(es) en régimen de Tutoría. TÍTULO VI Evaluaciones y calificaciones Art. 25. Toda actividad curricular deberá ser sometida a un proceso de evaluación académica. Los procedimientos evaluativos guardarán una adecuada relación con los resultados de aprendizaje, contenidos y actividades del programa. Podrán realizarse mediante pruebas escritas, interrogaciones orales, informes individuales o de grupo, u otro procedimiento que determine cada docente responsable, según las características propias de la asignatura y de las orientaciones metodológicas dispuestas en el programa de asignatura, y éstas deberán estar alineadas con el Proyecto Educativo Institucional. Todo proceso evaluativo calificado deberá ser acompañado de un instrumento de evaluación tales como rúbricas, pautas, entre otras. Art. 26. Dentro de las dos primeras semanas de cada periodo académico, el profesorado deberá dara conocer a los estudiantes, la siguiente información en la plataforma de gestión para el aprendizaje (Campus virtual): 1. Programa de la asignatura. 2. Planificación Didáctica Art. 27. Cada asignatura deberá definir 3 calificaciones parciales como mínimo en su componente principal para ser realizadas durante el semestre, las que deberán ser definidas en el proceso de oferta académica, junto a las fechas de tales evaluaciones. Cualquier excepción deberá ser autorizada por la Dirección General de Pregrado en Antofagasta y la Secretaría de Pregrado y Estudiantil en Coquimbo según corresponda, salvo excepciones explicitadas en el respectivo libro de carrera o programa.'),\n",
       " Document(id='89cdf549-b089-45d0-a01a-cfd6c6ebc80d', metadata={'page': 26, 'source': 'C:\\\\Users\\\\claud\\\\Desktop\\\\Cursos\\\\LearningLangChain\\\\Deploy\\\\PDF\\\\Reglamento-General-de-Docencia-de-Pregrado-2024-2.pdf'}, page_content='Art. 57. Se considerará requisito mínimo para presentar la solicitud de traslado, acompañar la siguiente documentación oficial, en original: a) Certificado de alumno/a regular de la universidad de origen. b) Certificado de ingreso a la universidad de origen, indicando puntaje en cada una de las pruebas de selección consideradas para dicha admisión, exigiéndose al efecto un puntaje igual o superior al último ingreso a la UCN de la cohorte en cuestión. o) Concentración de notas, incluyendo la relación completa de todos los cursos aprobados y reprobados. d) Tener aprobadas el 70% (setenta por ciento) de las asignaturas del primer semestre de la carrera o programa de origen. e) Certificado de no impedimento que señale explícitamente que el estudiante está habilitado para proseguir estudios en su universidad de origen, el que no podrá tener más de 15 días de diferencia entra la fecha de extensión y la fecha de la solicitud. f) En el caso de estudiantes de pedagogías, deberán cumplir con los requisitos de la Ley N*20.903. Art. 58. La solicitud de traslado se realizará sólo una al año, de acuerdo a lo establecido en el calendario de actividades docentes y seguirá su trámite según los procedimientos vigentes para tal efecto, acompañada de los antecedentes indicados en el artículo 57 de este reglamento. La solicitud de traslado será resuelta por al consejo de carrera o programa respectivo. TÍTULO X1l Movilidad estudiantil Art. 59. Cada estudiante que participa en movilidad estudiantil mantiene la condición de estudiante regular de la Universidad Católica del Norte.'),\n",
       " Document(id='eb3a095c-5a5c-4934-b7b5-af06308a7c05', metadata={'page': 25, 'source': 'C:\\\\Users\\\\claud\\\\Desktop\\\\Cursos\\\\LearningLangChain\\\\Deploy\\\\PDF\\\\Reglamento-General-de-Docencia-de-Pregrado-2024-2.pdf'}, page_content='La resolución de esta solicitud esta sujeta a la ponderación de diversos criterios tales como puntaje de admisión, número de cupos disponibles, test vocacional y notas obtenidas en la carrera de origen, sin perjuicio de otros criterios específicos que establezca la carrera. Art. 55. Se entenderá por cambio de sede el acto por medio del cual un/una estudiante deja de pertenecer a la sede de origen de su carrera o programa, quedando adscrito a la misma carrera o programa en una sede distinta de la Universidad. Se aceptará sólo un (1) cambio de sede durante sus estudios en la universidad. Los egresados quienes aún no han concluido su actividad de titulación o graduación, no podrán realizar cambio de sede para finalizar su proceso. La resolución de esta solicitud está sujeta a la ponderación de diversos criterios tales como puntaje de admisión, número de cupos disponibles, notas obtenidas en la carrera de origen, sin perjuicio de otros criterios específicos que establezca la sede. Los requisitos para solicitar Cambio sede son: a) No estar afecto/a a una causal de pérdida de la calidad de estudiante, según lo establecido en el artículo 46 del presente Reglamento. b) Cumplir con los requisitos específicos establecidos por la Unidad Académica respectiva, definidos en la normativa interna correspondiente. C) Haber cursado al menos un año en la sede de origen. TÍTULO XIl Traslado de Universidad Art. 56. Se entenderá por traslado de universidad al acto en virtud del cual un/a estudiante se cambia de otra universidad acreditada a la Universidad Católica del Norte, con el objeto de proseguir la misma u otra carrera o programa.')]"
      ]
     },
     "execution_count": 43,
     "metadata": {},
     "output_type": "execute_result"
    }
   ],
   "source": [
    "docs= retriever.invoke(\"¿Que es un alumno regular?\")\n",
    "docs"
   ]
  }
 ],
 "metadata": {
  "kernelspec": {
   "display_name": "thisEnvironment",
   "language": "python",
   "name": "python3"
  },
  "language_info": {
   "codemirror_mode": {
    "name": "ipython",
    "version": 3
   },
   "file_extension": ".py",
   "mimetype": "text/x-python",
   "name": "python",
   "nbconvert_exporter": "python",
   "pygments_lexer": "ipython3",
   "version": "3.12.0"
  }
 },
 "nbformat": 4,
 "nbformat_minor": 2
}
